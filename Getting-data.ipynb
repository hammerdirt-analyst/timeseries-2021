{
 "cells": [
  {
   "cell_type": "markdown",
   "metadata": {},
   "source": [
    "### Getting data and initiating a file structure\n",
    "\n",
    "\n",
    "__Purpose:__ Establish the method for file storage and data access for the 20-21 project.\n",
    "\n",
    "__General:__ Run this module weekly to pick up any surveys that were completed. Then run the other notebooks and scripts off the generated JSON data.\n",
    "\n",
    "questions or comments: analyst@hammerdirt.ch"
   ]
  },
  {
   "cell_type": "code",
   "execution_count": 1,
   "metadata": {},
   "outputs": [],
   "source": [
    "import requests\n",
    "from utilities.utility_functions import *"
   ]
  },
  {
   "cell_type": "code",
   "execution_count": 2,
   "metadata": {},
   "outputs": [
    {
     "name": "stdout",
     "output_type": "stream",
     "text": [
      "Directory already in place\n"
     ]
    }
   ],
   "source": [
    "# set the basic directory structure for script output\n",
    "folders = [\"data\", \"charts\", \"utilities\"]\n",
    "here = os.getcwd()\n",
    "\n",
    "# check for folders and if not make folders\n",
    "check_for_folders(folders, here)\n",
    "\n",
    "# make a dictionary to call path by directory name\n",
    "my_folders = make_folders(folders, here)"
   ]
  },
  {
   "cell_type": "code",
   "execution_count": 3,
   "metadata": {},
   "outputs": [],
   "source": [
    "# api urls\n",
    "\n",
    "# all the locations in the data-base \n",
    "beach_data = 'https://mwshovel.pythonanywhere.com/api/list-of-beaches/swiss/'\n",
    "\n",
    "# all the survey results\n",
    "survey_results = 'https://mwshovel.pythonanywhere.com/api/surveys/daily-totals/code-totals/swiss/'\n",
    "\n",
    "# the mlw codes in use\n",
    "mlw_codes = 'https://mwshovel.pythonanywhere.com/api/mlw-codes/list/'\n",
    "\n",
    "# the data comes off the api grouped and aggregated by lake or river\n",
    "waterbody_totals = 'https://mwshovel.pythonanywhere.com/api/code-totals/water-bodies/swiss/'\n",
    "\n",
    "# the survey sites are also grouped by waterbody\n",
    "waterbody_groups = 'https://mwshovel.pythonanywhere.com/api/list-of-beaches/by-category/swiss/'\n",
    "\n",
    "# daily totals in pieces/meter by date and location\n",
    "daily_totals_pcs_m = 'https://mwshovel.pythonanywhere.com/api/surveys/daily-totals/swiss/'"
   ]
  },
  {
   "cell_type": "code",
   "execution_count": 4,
   "metadata": {},
   "outputs": [
    {
     "name": "stdout",
     "output_type": "stream",
     "text": [
      "['/home/mwshovel/dev/analyst/timeseries/data/beach_data.json', '/home/mwshovel/dev/analyst/timeseries/data/survey_results.json', '/home/mwshovel/dev/analyst/timeseries/data/mlw_codes.json', '/home/mwshovel/dev/analyst/timeseries/data/waterbody_totals.json', '/home/mwshovel/dev/analyst/timeseries/data/waterbody_groups.json', '/home/mwshovel/dev/analyst/timeseries/data/daily_totals_pcs_m.json']\n"
     ]
    }
   ],
   "source": [
    "# get the data\n",
    "\n",
    "# assign a file name to each endpoint\n",
    "file_names_and_endpoints = [\n",
    "    ['beach_data', beach_data],\n",
    "    ['survey_results', survey_results],\n",
    "    ['mlw_codes', mlw_codes],\n",
    "    ['waterbody_totals', waterbody_totals],\n",
    "    ['waterbody_groups', waterbody_groups],\n",
    "    ['daily_totals_pcs_m', daily_totals_pcs_m]\n",
    "]\n",
    "\n",
    "# make a call to the api and save to local\n",
    "# utilities.utility_functions.put_the_data_to_local\n",
    "put_the_data_to_local(file_names_and_endpoints, here)"
   ]
  },
  {
   "cell_type": "code",
   "execution_count": 5,
   "metadata": {},
   "outputs": [],
   "source": [
    "# make a csv version for spreadsheet users\n",
    "\n",
    "# the survey data needs to be unpacked first\n",
    "# utilities.utility_functions.json_file_get\n",
    "survey_details = json_file_get('/home/mwshovel/dev/analyst/abundance/data/survey_results.json')\n",
    "daily_totals = json_file_get('/home/mwshovel/dev/analyst/timeseries/data/daily_totals_pcs_m.json')\n",
    "\n",
    "# this returns an array of py dictionaries\n",
    "unpacked = unpack_survey_results(survey_details)\n",
    "unpacked_daily_totals = unpack_daily_totals(daily_totals)\n",
    "\n",
    "the_jsons = [\n",
    "    ('beach_data','/home/mwshovel/dev/analyst/abundance/data/beach_data.json'),\n",
    "    ('mlw_codes','/home/mwshovel/dev/analyst/abundance/data/mlw_codes.json'),\n",
    "]\n",
    "\n",
    "dict_to_csv(unpacked,'survey_results', my_folders['data'])\n",
    "dict_to_csv(unpacked_daily_totals, 'daily_totals_pcs_m', my_folders['data'])\n",
    "\n",
    "json_file_to_csv(the_jsons, my_folders['data'])"
   ]
  }
 ],
 "metadata": {
  "hide_input": false,
  "kernelspec": {
   "display_name": "Python 3",
   "language": "python",
   "name": "python3"
  },
  "language_info": {
   "codemirror_mode": {
    "name": "ipython",
    "version": 3
   },
   "file_extension": ".py",
   "mimetype": "text/x-python",
   "name": "python",
   "nbconvert_exporter": "python",
   "pygments_lexer": "ipython3",
   "version": "3.8.2"
  }
 },
 "nbformat": 4,
 "nbformat_minor": 2
}
