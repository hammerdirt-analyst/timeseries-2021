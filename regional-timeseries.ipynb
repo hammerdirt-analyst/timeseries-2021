{
 "cells": [
  {
   "cell_type": "markdown",
   "metadata": {},
   "source": [
    "### Scatter chart of daily total pieces/meter per region\n",
    "\n",
    "__Purpose:__ Make static scatter plots that can be downloaded from repo.\n",
    "\n",
    "__Reference:__ Getting-data\n",
    "\n",
    "\n",
    "Variables to assign:\n",
    "\n",
    "1) \"project_name\", in block one. This is the destination folder for the charts.\n",
    "\n",
    "2) \"water_body\", this is the lake or river you want a chart for\n",
    "\n",
    "3) \"file_name\", this is a despcriptive. The value of waterbody will be prepended to the this and the file extension will be appended. It should state clearly the data you are capturing.\n",
    "\n",
    "4) \"start_date\" and \"end_date\", this the date range you want for the analysis\n",
    "\n",
    "5) \"min_date\" and \"max date\", this appears in the figure title. Use common three letter abbreviations.\n",
    "\n",
    "6) \"ticks\" depending on the time frame you will want to use either 'years', 'months' or 'days'\n",
    "\n",
    "Saving your workbook remotely: Make a branch and submit a pull request for that branch.\n"
   ]
  },
  {
   "cell_type": "code",
   "execution_count": 1,
   "metadata": {},
   "outputs": [],
   "source": [
    "import numpy as np\n",
    "import json\n",
    "import csv\n",
    "import datetime\n",
    "import collections\n",
    "import matplotlib as mpl\n",
    "import matplotlib.pyplot as plt\n",
    "import os\n",
    "import seaborn as sns\n",
    "import matplotlib.dates as mdates\n",
    "from matplotlib import cm\n",
    "from matplotlib import colors as mcolors\n",
    "from matplotlib.ticker import MultipleLocator\n",
    "from matplotlib.patches import Patch\n",
    "from matplotlib.lines import Line2D\n",
    "from utilities.utility_functions import *\n",
    "from utilities.scatterChart import scatterPlot\n",
    "from utilities.style_title_suptitle import *\n"
   ]
  },
  {
   "cell_type": "code",
   "execution_count": 2,
   "metadata": {},
   "outputs": [
    {
     "name": "stdout",
     "output_type": "stream",
     "text": [
      "Directory already in place\n",
      "/home/mwshovel/dev/analyst/timeseries/charts/time_series_2015_2019/\n"
     ]
    }
   ],
   "source": [
    "# index slicing will be used \n",
    "idx = pd.IndexSlice\n",
    "\n",
    "# store the curent working directory\n",
    "here = os.getcwd()\n",
    "\n",
    "# name the folders where the output will be sored:\n",
    "folders = [\"data\", \"charts\", \"utilities\"]\n",
    "\n",
    "# check for existing and if not make folders\n",
    "check_for_folders(folders, here)\n",
    "\n",
    "# make a dictionary to call path by directory name\n",
    "my_folders = make_folders(folders, here)\n",
    "\n",
    "# make a project folder to store charts\n",
    "project_name = \"time_series_2015_2019/\"\n",
    "project_directory = make_project_folder(my_folders['charts'], project_name)\n",
    "\n",
    "print(project_directory)"
   ]
  },
  {
   "cell_type": "code",
   "execution_count": 3,
   "metadata": {},
   "outputs": [],
   "source": [
    "# Read the JSON data in from local\n",
    "\n",
    "# location of the data:\n",
    "mlw_codes = json_file_get('/home/mwshovel/dev/analyst/timeseries/data/mlw_codes.json')\n",
    "beach_data = json_file_get('/home/mwshovel/dev/analyst/timeseries/data/beach_data.json')\n",
    "waterbody_groups = json_file_get('/home/mwshovel/dev/analyst/timeseries/data/waterbody_groups.json')"
   ]
  },
  {
   "cell_type": "code",
   "execution_count": 4,
   "metadata": {},
   "outputs": [],
   "source": [
    "# transform the data and read in the survey results\n",
    "\n",
    "# transform the the waterbody groups from an array to a python dictionary\n",
    "water_body_names = {x['location']:x['beaches'] for x in waterbody_groups}\n",
    "\n",
    "# Read in the .csv data\n",
    "daily_totals = pd.read_csv('/home/mwshovel/dev/analyst/timeseries/data/daily_totals_pcs_m.csv')\n",
    "\n",
    "# make a timestamp column from the JSON string date\n",
    "daily_totals['py_date'] = pd.to_datetime(daily_totals['date'])"
   ]
  },
  {
   "cell_type": "code",
   "execution_count": 5,
   "metadata": {},
   "outputs": [],
   "source": [
    "# assign variables\n",
    "\n",
    "# the location of interest:\n",
    "water_body = 'Lac Léman'\n",
    "\n",
    "# dates for slicing data\n",
    "start_date = '2015-11-15'\n",
    "end_date = '2019-12-31'\n",
    "\n",
    "# dates for the figure title\n",
    "min_date = \"Nov-2015\"\n",
    "max_date = \"Dec-2019\"\n",
    "\n",
    "# legend and title contents\n",
    "chart_title = 'Survey totals in pieces/meter'\n",
    "figure_title = water_body\n",
    "legend_title = 'Object description: quantity'\n",
    "file_name = '{}-timeseries-2015-2019'.format('lac-léman')\n",
    "\n",
    "# provide a color map https://matplotlib.org/3.1.0/tutorials/colors/colormaps.html\n",
    "color_map = 'winter'\n",
    "point_size = 80\n",
    "edge_c = 'white'\n",
    "\n",
    "# set the tick label to years, months or days, you may have to try a few to find the right output\n",
    "# if you have alot of data and alot of time pick years\n",
    "ticks = \"years\"\n",
    "\n",
    "# get the relevant data\n",
    "df_location = daily_totals[daily_totals['location'].isin(water_body_names[water_body])]\n",
    "locations = df_location['location'].unique()"
   ]
  },
  {
   "cell_type": "code",
   "execution_count": 6,
   "metadata": {
    "code_folding": []
   },
   "outputs": [],
   "source": [
    "# define the date range\n",
    "date_range = start_end_date(start_date,end_date, \"%Y-%m-%d\") \n",
    "\n",
    "# apply date date range to df\n",
    "a_df = get_data_by_date_range(df_location, date_range)\n",
    "locations = a_df['location'].unique()\n",
    "\n",
    "# define the style and position for the chart title and the figure title\n",
    "title_style = title_styles(fs=12,\n",
    "                           ff='sans-serif',\n",
    "                           fw='normal',\n",
    "                           color='black',\n",
    "                          )\n",
    "\n",
    "sup_title_style = title_styles(fs=14,\n",
    "                               ff='sans-serif',\n",
    "                               fw='roman',\n",
    "                               color='black'\n",
    "                              )\n",
    "\n",
    "the_title_position = title_position(pad=15,\n",
    "                                    loc='left',\n",
    "                                   )\n",
    "\n",
    "sup_title_position = the_sup_title_position(x=0.13,\n",
    "                                            va='baseline',\n",
    "                                            ha='left',\n",
    "                                            y=0.98\n",
    "                                           )\n",
    "\n",
    "# set the title and figure title\n",
    "the_title = title_content(label=chart_title)\n",
    "\n",
    "the_sup_title=title_content(label=figure_title)\n",
    "\n",
    "# set the legend style and the location of the bounding box\n",
    "the_legend_style = legend_style(title=legend_title)\n",
    "\n",
    "# set the legend title and alignment\n",
    "legend_title = legend_t_align()\n",
    "\n",
    "# set the axis properties\n",
    "y_axis = axis_label_props(label='Pieces of trash per meter of shoreline')\n",
    "\n",
    "x_axis = axis_label_props(label='The daily totals represent the minimum amount of trash for that day.')\n",
    "\n",
    "# date formatters https://docs.python.org/3/library/datetime.html#datetime.datetime\n",
    "x_tick_date = {\n",
    "    \"years\":'%Y',\n",
    "    \"months\":'%b',\n",
    "    \"days\":'%a',\n",
    "}\n",
    "\n",
    "# adjust the distance from the top of the chart to the plotting area\n",
    "subplot_params = adjust_subplot_params()\n",
    "\n",
    "# file save paramteters\n",
    "save_this = file_params(project_directory, file_name, ['.svg','.jpeg'])\n",
    "\n",
    "kwargs = {\n",
    "    \"min_date\":min_date,\n",
    "    \"max_date\":max_date,\n",
    "    \"a_df\":a_df,\n",
    "    \"locations\":locations,\n",
    "    \"date_range\":date_range,\n",
    "    \"title_style\":title_style,\n",
    "    \"the_title_position\":the_title_position,\n",
    "    \"the_title\":the_title,\n",
    "    \"sup_title_style\":sup_title_style,\n",
    "    \"sup_title_position\":sup_title_position,\n",
    "    \"the_sup_title\":the_sup_title,\n",
    "    \"the_legend_style\":the_legend_style,\n",
    "    \"legend_title\":legend_title,\n",
    "    \"color_map\":color_map,\n",
    "    \"y_axis\":y_axis,\n",
    "    \"x_axis\":x_axis,\n",
    "    \"subplot_params\":subplot_params,\n",
    "    \"save_this\":save_this,\n",
    "    \"point_size\":point_size,\n",
    "    \"edge_c\":edge_c,\n",
    "    \"x_tick_date\":x_tick_date,\n",
    "    \"ticks\":ticks\n",
    "    \n",
    " }"
   ]
  },
  {
   "cell_type": "code",
   "execution_count": 7,
   "metadata": {
    "hide_input": false,
    "scrolled": false
   },
   "outputs": [
    {
     "data": {
      "image/png": "[encoded data removed]",
      "text/plain": [
       "<Figure size 576x360 with 1 Axes>"
      ]
     },
     "metadata": {
      "needs_background": "light"
     },
     "output_type": "display_data"
    }
   ],
   "source": [
    "scatterPlot(**kwargs)"
   ]
  },
  {
   "cell_type": "code",
   "execution_count": null,
   "metadata": {},
   "outputs": [],
   "source": []
  }
 ],
 "metadata": {
  "hide_input": false,
  "kernelspec": {
   "display_name": "Python 3",
   "language": "python",
   "name": "python3"
  },
  "language_info": {
   "codemirror_mode": {
    "name": "ipython",
    "version": 3
   },
   "file_extension": ".py",
   "mimetype": "text/x-python",
   "name": "python",
   "nbconvert_exporter": "python",
   "pygments_lexer": "ipython3",
   "version": "3.8.2"
  }
 },
 "nbformat": 4,
 "nbformat_minor": 2
}
